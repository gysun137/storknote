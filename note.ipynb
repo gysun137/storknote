{
 "cells": [
  {
   "cell_type": "markdown",
   "metadata": {},
   "source": [
    "# Stork Diary"
   ]
  },
  {
   "cell_type": "markdown",
   "metadata": {},
   "source": [
    "## 20200225 15:00 28.40买入万业企业 600641 100股"
   ]
  },
  {
   "cell_type": "markdown",
   "metadata": {},
   "source": [
    "收盘时买入，后期应该盘中买入。买股票是投资不是投机，设定好交易策略，认赌要服输。"
   ]
  },
  {
   "cell_type": "markdown",
   "metadata": {},
   "source": [
    "### MACD DIf DEA 红绿柱"
   ]
  },
  {
   "cell_type": "markdown",
   "metadata": {},
   "source": [
    "$Dif = EMA_{12} - EMA_{26}$ \n",
    "DIF代表长短期均线之间的差，绝对值越大，代表股票上涨或下跌呈加速状态。\n",
    "顶背离股价上涨 DIF下降，上涨势头越来越弱，曲线越来越到最高点\n",
    "底背离  代表下跌势头减弱\n",
    "DIF>0;则金叉适合买 死叉意味着上涨势头变弱\n",
    "$DEA = DIF_9$\n",
    "开盘价不一定等于收盘价"
   ]
  },
  {
   "cell_type": "markdown",
   "metadata": {},
   "source": [
    "### 做T"
   ]
  },
  {
   "cell_type": "markdown",
   "metadata": {},
   "source": [
    "做T需要流动资金，因此在投资时不要一波进，像定投股票\n",
    "1.下降趋势\n",
    "2.震荡趋势\n",
    "3.上升趋势"
   ]
  },
  {
   "cell_type": "markdown",
   "metadata": {},
   "source": [
    "## 20200226 跌300"
   ]
  },
  {
   "cell_type": "markdown",
   "metadata": {},
   "source": [
    "## 20200226 跌141"
   ]
  },
  {
   "cell_type": "markdown",
   "metadata": {},
   "source": [
    "## 20200301"
   ]
  },
  {
   "cell_type": "markdown",
   "metadata": {},
   "source": [
    "避免短线频繁交易，不要尝试抓住每一次波动；避免逆势操作下跌很多时买入也未必好；避免重仓交易，留下流动资金；减少无意义的工作和干扰，时刻盯着报价系统，其实小波动是无意义的，试着重新开始。"
   ]
  },
  {
   "cell_type": "markdown",
   "metadata": {},
   "source": [
    "# 量化系统 "
   ]
  },
  {
   "cell_type": "markdown",
   "metadata": {},
   "source": [
    "## Numpy"
   ]
  },
  {
   "cell_type": "markdown",
   "metadata": {},
   "source": [
    "### 初始化操作"
   ]
  },
  {
   "cell_type": "code",
   "execution_count": 7,
   "metadata": {},
   "outputs": [
    {
     "data": {
      "text/plain": [
       "array([0.        , 0.11111111, 0.22222222, 0.33333333, 0.44444444,\n",
       "       0.55555556, 0.66666667, 0.77777778, 0.88888889, 1.        ])"
      ]
     },
     "execution_count": 7,
     "metadata": {},
     "output_type": "execute_result"
    }
   ],
   "source": [
    "import numpy as np\n",
    "np.zeros(100)\n",
    "np.zeros((3,2))\n",
    "np.ones((3,2))\n",
    "np.empty((2, 3, 3))\n",
    "\n",
    "np_list = np.arange(10000)\n",
    "np.ones_like(np_list)\n",
    "np.zeros_like(np_list)\n",
    "\n",
    "np.eye(3) #单位阵\n",
    "\n",
    "data = [[1,2,3,4],[5,6,7,8]]\n",
    "arr_np = np.array(data)\n",
    "arr_np\n",
    "\n",
    "np.linspace(0,1,10)"
   ]
  },
  {
   "cell_type": "markdown",
   "metadata": {},
   "source": [
    "### 索引选取和切片操作"
   ]
  },
  {
   "cell_type": "code",
   "execution_count": 10,
   "metadata": {},
   "outputs": [
    {
     "data": {
      "text/plain": [
       "array([[-1.24458948,  0.12100969,  0.20964633,  0.78426014, -1.13266083],\n",
       "       [ 0.07032375, -0.46521003, -0.80839282,  0.15016976,  0.94774359]])"
      ]
     },
     "execution_count": 10,
     "metadata": {},
     "output_type": "execute_result"
    }
   ],
   "source": [
    "stork_cnt = 200\n",
    "view_days = 504\n",
    "stork_day_change = np.random.standard_normal((stork_cnt,view_days))\n",
    "tmp  = stork_day_change[0:2,0:5].copy()\n",
    "stork_day_change[0:2, 0:5] = stork_day_change[-2:, -5:]\n",
    "stork_day_change[-2:, -5:] = tmp\n",
    "stork_day_change[-2:, -5:] "
   ]
  },
  {
   "cell_type": "markdown",
   "metadata": {},
   "source": [
    "### 数据转换与规整"
   ]
  },
  {
   "cell_type": "code",
   "execution_count": 13,
   "metadata": {},
   "outputs": [
    {
     "data": {
      "text/plain": [
       "array([[        nan, -0.70811378,  0.96857743,  0.95027533,  0.45339739],\n",
       "       [-0.04994816,  1.22658165, -1.57942391,  1.59261325,  0.65203405]])"
      ]
     },
     "execution_count": 13,
     "metadata": {},
     "output_type": "execute_result"
    }
   ],
   "source": [
    "#转换数据类型\n",
    "stork_day_change[0:2 ,0:5].astype(int)\n",
    "#保留小数点数位\n",
    "np.around(stork_day_change[0:2 ,0:5],2)\n",
    "#nan 数据处理\n",
    "tmp_test = stork_day_change[0:2, 0:5].copy()\n",
    "tmp_test[0][0] = np.nan\n",
    "tmp_test"
   ]
  },
  {
   "cell_type": "code",
   "execution_count": 15,
   "metadata": {},
   "outputs": [
    {
     "data": {
      "text/plain": [
       "array([[ 0.        , -0.70811378,  0.96857743,  0.95027533,  0.45339739],\n",
       "       [-0.04994816,  1.22658165, -1.57942391,  1.59261325,  0.65203405]])"
      ]
     },
     "execution_count": 15,
     "metadata": {},
     "output_type": "execute_result"
    }
   ],
   "source": [
    "tmp_test = np.nan_to_num(tmp_test)\n",
    "tmp_test"
   ]
  },
  {
   "cell_type": "markdown",
   "metadata": {},
   "source": [
    "### 逻辑条件进行数据筛选"
   ]
  },
  {
   "cell_type": "code",
   "execution_count": 16,
   "metadata": {},
   "outputs": [
    {
     "data": {
      "text/plain": [
       "array([[False, False,  True,  True, False],\n",
       "       [False,  True, False,  True,  True]])"
      ]
     },
     "execution_count": 16,
     "metadata": {},
     "output_type": "execute_result"
    }
   ],
   "source": [
    "mask = stork_day_change[0:2, 0:5] >0.5\n",
    "mask #bool"
   ]
  },
  {
   "cell_type": "code",
   "execution_count": 17,
   "metadata": {},
   "outputs": [
    {
     "data": {
      "text/plain": [
       "array([0.96857743, 0.95027533, 1.22658165, 1.59261325, 0.65203405])"
      ]
     },
     "execution_count": 17,
     "metadata": {},
     "output_type": "execute_result"
    }
   ],
   "source": [
    "tmp_test = stork_day_change[0:2, 0:5].copy()\n",
    "tmp_test[mask]"
   ]
  },
  {
   "cell_type": "code",
   "execution_count": 19,
   "metadata": {},
   "outputs": [],
   "source": [
    "tmp_test[tmp_test>0.5] \n",
    "tmp_test[tmp_test>0.5] = 1"
   ]
  },
  {
   "cell_type": "markdown",
   "metadata": {},
   "source": [
    "### 通用序列函数"
   ]
  },
  {
   "cell_type": "code",
   "execution_count": 20,
   "metadata": {},
   "outputs": [
    {
     "data": {
      "text/plain": [
       "False"
      ]
     },
     "execution_count": 20,
     "metadata": {},
     "output_type": "execute_result"
    }
   ],
   "source": [
    "np.all(mask)"
   ]
  },
  {
   "cell_type": "code",
   "execution_count": 21,
   "metadata": {},
   "outputs": [
    {
     "data": {
      "text/plain": [
       "True"
      ]
     },
     "execution_count": 21,
     "metadata": {},
     "output_type": "execute_result"
    }
   ],
   "source": [
    "np.any(mask)#是否有true"
   ]
  },
  {
   "cell_type": "code",
   "execution_count": 24,
   "metadata": {},
   "outputs": [
    {
     "data": {
      "text/plain": [
       "array([[-0.47333664,  0.12100969,  0.96857743,  0.95027533,  0.45339739],\n",
       "       [ 0.07032375,  1.22658165, -0.80839282,  1.59261325,  0.94774359]])"
      ]
     },
     "execution_count": 24,
     "metadata": {},
     "output_type": "execute_result"
    }
   ],
   "source": [
    "np.maximum(stork_day_change[0:2, 0:5],stork_day_change[-2:, -5:])"
   ]
  },
  {
   "cell_type": "code",
   "execution_count": 26,
   "metadata": {},
   "outputs": [
    {
     "name": "stdout",
     "output_type": "stream",
     "text": [
      "[[ 0  0  0  0  0]\n",
      " [ 0  1 -1  1  0]]\n"
     ]
    },
    {
     "data": {
      "text/plain": [
       "array([-1,  0,  1])"
      ]
     },
     "execution_count": 26,
     "metadata": {},
     "output_type": "execute_result"
    }
   ],
   "source": [
    "change_int = stork_day_change[0:2 ,0:5].astype(int)\n",
    "print(change_int)\n",
    "np.unique(change_int)"
   ]
  },
  {
   "cell_type": "code",
   "execution_count": 28,
   "metadata": {},
   "outputs": [
    {
     "name": "stdout",
     "output_type": "stream",
     "text": [
      "[[-0.47333664 -0.70811378  0.96857743  0.95027533  0.45339739]\n",
      " [-0.04994816  1.22658165 -1.57942391  1.59261325  0.65203405]]\n"
     ]
    },
    {
     "data": {
      "text/plain": [
       "array([[ 0.42338849,  1.93469544, -2.54800133,  0.64233793,  0.19863666]])"
      ]
     },
     "execution_count": 28,
     "metadata": {},
     "output_type": "execute_result"
    }
   ],
   "source": [
    "print(stork_day_change[0:2, 0:5])\n",
    "np.diff(stork_day_change[0:2, 0:5]) # 默认axis=1\n",
    "np.diff(stork_day_change[0:2, 0:5],axis=0)"
   ]
  },
  {
   "cell_type": "code",
   "execution_count": 29,
   "metadata": {},
   "outputs": [
    {
     "data": {
      "text/plain": [
       "array([[0, 1, 1, 1, 0],\n",
       "       [0, 1, 1, 1, 1]])"
      ]
     },
     "execution_count": 29,
     "metadata": {},
     "output_type": "execute_result"
    }
   ],
   "source": [
    "np.where(tmp_test>0.5, 1, 0) #\n",
    "np.where(tmp_test>0.5, 1, tmp_test)\n",
    "np.where(np.logical_and(tmp_test>0.5, tmp_test<1), 1, 0)\n",
    "np.where(np.logical_or(tmp_test>0.5, tmp_test<-0.5), 1, 0)"
   ]
  },
  {
   "cell_type": "markdown",
   "metadata": {},
   "source": [
    "## 基础统计概念与函数 "
   ]
  },
  {
   "cell_type": "code",
   "execution_count": 31,
   "metadata": {},
   "outputs": [
    {
     "name": "stdout",
     "output_type": "stream",
     "text": [
      "[[-0.47333664 -0.70811378  0.96857743  0.95027533]\n",
      " [-0.04994816  1.22658165 -1.57942391  1.59261325]\n",
      " [ 0.51794467 -0.05347199  1.6771056   0.20543282]\n",
      " [-0.57182273  1.02294919  0.39288208 -0.67850236]]\n"
     ]
    },
    {
     "data": {
      "text/plain": [
       "array([2, 1, 2, 1])"
      ]
     },
     "execution_count": 31,
     "metadata": {},
     "output_type": "execute_result"
    }
   ],
   "source": [
    "#np.max()\n",
    "#np.min()\n",
    "#np.std()\n",
    "#np.mean()\n",
    "stork_day_change_four = stork_day_change[:4, :4]\n",
    "print(stork_day_change_four)\n",
    "np.argmax(stork_day_change_four,axis=0)"
   ]
  },
  {
   "cell_type": "code",
   "execution_count": 33,
   "metadata": {},
   "outputs": [
    {
     "data": {
      "text/plain": [
       "<matplotlib.lines.Line2D at 0x7fddc3aab198>"
      ]
     },
     "execution_count": 33,
     "metadata": {},
     "output_type": "execute_result"
    },
    {
     "data": {
      "image/png": "[encoded data removed]",
      "text/plain": [
       "<Figure size 432x288 with 1 Axes>"
      ]
     },
     "metadata": {
      "needs_background": "light"
     },
     "output_type": "display_data"
    }
   ],
   "source": [
    "import matplotlib.pyplot as plt\n",
    "a_investor = np.random.normal(loc=100,scale=50,size=(100,1))\n",
    "plt.plot(a_investor)\n",
    "plt.axhline(a_investor.mean()+a_investor.std())"
   ]
  },
  {
   "cell_type": "markdown",
   "metadata": {},
   "source": [
    "###  histogram 和拟合曲线"
   ]
  },
  {
   "cell_type": "code",
   "execution_count": 36,
   "metadata": {},
   "outputs": [
    {
     "name": "stderr",
     "output_type": "stream",
     "text": [
      "/usr/lib/python3.6/importlib/_bootstrap.py:219: RuntimeWarning: numpy.ufunc size changed, may indicate binary incompatibility. Expected 192 from C header, got 216 from PyObject\n",
      "  return f(*args, **kwds)\n",
      "/usr/lib/python3.6/importlib/_bootstrap.py:219: RuntimeWarning: numpy.ufunc size changed, may indicate binary incompatibility. Expected 192 from C header, got 216 from PyObject\n",
      "  return f(*args, **kwds)\n",
      "/home/gysun/.local/lib/python3.6/site-packages/ipykernel_launcher.py:2: MatplotlibDeprecationWarning: \n",
      "The 'normed' kwarg was deprecated in Matplotlib 2.1 and will be removed in 3.1. Use 'density' instead.\n",
      "  \n"
     ]
    },
    {
     "data": {
      "text/plain": [
       "[<matplotlib.lines.Line2D at 0x7fdd886625c0>]"
      ]
     },
     "execution_count": 36,
     "metadata": {},
     "output_type": "execute_result"
    },
    {
     "data": {
      "image/png": "[encoded data removed]",
      "text/plain": [
       "<Figure size 432x288 with 1 Axes>"
      ]
     },
     "metadata": {
      "needs_background": "light"
     },
     "output_type": "display_data"
    }
   ],
   "source": [
    "import scipy.stats as scs\n",
    "plt.hist(stork_day_change[0],bins=50,normed=True)\n",
    "fit_linspace = np.linspace(stork_day_change[0].min(),stork_day_change[0].max())\n",
    "pdf = scs.norm(stork_day_change[0].mean(), stork_day_change[0].std()).pdf(fit_linspace)\n",
    "plt.plot(fit_linspace,pdf, lw=2, c='r')"
   ]
  },
  {
   "cell_type": "code",
   "execution_count": null,
   "metadata": {},
   "outputs": [],
   "source": []
  }
 ],
 "metadata": {
  "kernelspec": {
   "display_name": "Python 3",
   "language": "python",
   "name": "python3"
  },
  "language_info": {
   "codemirror_mode": {
    "name": "ipython",
    "version": 3
   },
   "file_extension": ".py",
   "mimetype": "text/x-python",
   "name": "python",
   "nbconvert_exporter": "python",
   "pygments_lexer": "ipython3",
   "version": "3.6.8"
  },
  "latex_envs": {
   "LaTeX_envs_menu_present": true,
   "autoclose": false,
   "autocomplete": true,
   "bibliofile": "biblio.bib",
   "cite_by": "apalike",
   "current_citInitial": 1,
   "eqLabelWithNumbers": true,
   "eqNumInitial": 1,
   "hotkeys": {
    "equation": "Ctrl-E",
    "itemize": "Ctrl-I"
   },
   "labels_anchors": false,
   "latex_user_defs": false,
   "report_style_numbering": false,
   "user_envs_cfg": false
  },
  "toc": {
   "base_numbering": 1,
   "nav_menu": {},
   "number_sections": true,
   "sideBar": true,
   "skip_h1_title": false,
   "title_cell": "Table of Contents",
   "title_sidebar": "Contents",
   "toc_cell": false,
   "toc_position": {},
   "toc_section_display": true,
   "toc_window_display": true
  }
 },
 "nbformat": 4,
 "nbformat_minor": 2
}
